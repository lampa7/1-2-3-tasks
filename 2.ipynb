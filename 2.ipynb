{
 "cells": [
  {
   "cell_type": "code",
   "execution_count": 91,
   "id": "5bf5dd20",
   "metadata": {},
   "outputs": [],
   "source": [
    "import numpy as np\n",
    "\n",
    "def counting_islands(m,n):\n",
    "    '''\n",
    "    m*n matirx\n",
    "    '''\n",
    "    matrix = np.random.randint(0,2,(m,n))\n",
    "    print(matrix)\n",
    "    return np.sum(matrix@np.ones((n,m)), axis=0)[0]"
   ]
  },
  {
   "cell_type": "code",
   "execution_count": 93,
   "id": "ba273d7a",
   "metadata": {},
   "outputs": [
    {
     "name": "stdout",
     "output_type": "stream",
     "text": [
      "[[1 0 1 ... 0 1 0]\n",
      " [1 0 0 ... 0 1 0]\n",
      " [0 1 0 ... 0 1 1]\n",
      " ...\n",
      " [1 1 1 ... 1 1 0]\n",
      " [0 1 1 ... 1 0 1]\n",
      " [0 1 0 ... 0 1 0]]\n"
     ]
    },
    {
     "data": {
      "text/plain": [
       "4777.0"
      ]
     },
     "execution_count": 93,
     "metadata": {},
     "output_type": "execute_result"
    }
   ],
   "source": [
    "counting_islands(78,122)"
   ]
  },
  {
   "cell_type": "code",
   "execution_count": null,
   "id": "7246e949",
   "metadata": {},
   "outputs": [],
   "source": []
  }
 ],
 "metadata": {
  "kernelspec": {
   "display_name": "Python 3",
   "language": "python",
   "name": "python3"
  },
  "language_info": {
   "codemirror_mode": {
    "name": "ipython",
    "version": 3
   },
   "file_extension": ".py",
   "mimetype": "text/x-python",
   "name": "python",
   "nbconvert_exporter": "python",
   "pygments_lexer": "ipython3",
   "version": "3.8.8"
  }
 },
 "nbformat": 4,
 "nbformat_minor": 5
}
